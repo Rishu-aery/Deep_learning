{
  "nbformat": 4,
  "nbformat_minor": 0,
  "metadata": {
    "colab": {
      "name": "CNN_DL.ipynb",
      "provenance": [],
      "authorship_tag": "ABX9TyPL4cutlMniKRn1iofcTOEm",
      "include_colab_link": true
    },
    "kernelspec": {
      "name": "python3",
      "display_name": "Python 3"
    },
    "language_info": {
      "name": "python"
    }
  },
  "cells": [
    {
      "cell_type": "markdown",
      "metadata": {
        "id": "view-in-github",
        "colab_type": "text"
      },
      "source": [
        "<a href=\"https://colab.research.google.com/github/Rishu-aery/Deep_learning/blob/main/CNN_DL.ipynb\" target=\"_parent\"><img src=\"https://colab.research.google.com/assets/colab-badge.svg\" alt=\"Open In Colab\"/></a>"
      ]
    },
    {
      "cell_type": "code",
      "execution_count": 1,
      "metadata": {
        "id": "b0KYq74vlNKy"
      },
      "outputs": [],
      "source": [
        "import pandas as pd\n",
        "import tensorflow as tf\n",
        "import numpy as np\n",
        "import matplotlib.pyplot as plt"
      ]
    },
    {
      "cell_type": "code",
      "source": [
        "mnist=tf.keras.datasets.mnist\n",
        "(x_train,train_labels),(x_test,test_labels)=mnist.load_data()\n",
        "first_img=x_train[0]\n",
        "print('x_train.shape:',x_train.shape)\n",
        "print('x_test.shape:',x_test.shape)\n",
        "plt.imshow(first_img)\n",
        "plt.show()"
      ],
      "metadata": {
        "colab": {
          "base_uri": "https://localhost:8080/",
          "height": 355
        },
        "id": "EMwLYWN9lwXl",
        "outputId": "ce05fd23-2474-4ee7-91b7-e5c7a0f5cd79"
      },
      "execution_count": 2,
      "outputs": [
        {
          "output_type": "stream",
          "name": "stdout",
          "text": [
            "Downloading data from https://storage.googleapis.com/tensorflow/tf-keras-datasets/mnist.npz\n",
            "11493376/11490434 [==============================] - 0s 0us/step\n",
            "11501568/11490434 [==============================] - 0s 0us/step\n",
            "x_train.shape: (60000, 28, 28)\n",
            "x_test.shape: (10000, 28, 28)\n"
          ]
        },
        {
          "output_type": "display_data",
          "data": {
            "text/plain": [
              "<Figure size 432x288 with 1 Axes>"
            ],
            "image/png": "[encoded data removed]"
          },
          "metadata": {
            "needs_background": "light"
          }
        }
      ]
    },
    {
      "cell_type": "code",
      "source": [
        "import keras\n",
        "train_images=x_train.reshape(60000,28,28,1)\n",
        "test_images=x_test.reshape(10000,28,28,1)\n",
        "\n",
        "train_images,test_images=train_images/255.0,test_images/255.0\n",
        "\n",
        "model=tf.keras.models.Sequential()\n",
        "model.add(keras.layers.Conv2D(16,(3,3),activation='relu',input_shape=(28,28,1)))\n",
        "model.add(keras.layers.MaxPooling2D((2,2)))\n",
        "\n",
        "model.add(keras.layers.Conv2D(32,(3,3),activation='relu'))\n",
        "model.add(keras.layers.MaxPooling2D((2,2)))\n",
        "\n",
        "model.add(keras.layers.Conv2D(64,(3,3),activation='relu'))\n",
        "model.add(keras.layers.MaxPooling2D((2,2)))\n",
        "\n",
        "model.add(keras.layers.Flatten())\n",
        "model.add(keras.layers.Dense(64,activation='relu'))\n",
        "model.add(keras.layers.Dense(10,activation='softmax'))"
      ],
      "metadata": {
        "id": "q9bgCBOWnU5l"
      },
      "execution_count": 3,
      "outputs": []
    },
    {
      "cell_type": "code",
      "source": [
        "model.compile(loss='sparse_categorical_crossentropy',optimizer='adam',metrics=['accuracy'])\n",
        "model.fit(train_images,train_labels,epochs=1)"
      ],
      "metadata": {
        "colab": {
          "base_uri": "https://localhost:8080/"
        },
        "id": "v697JaKgpg1s",
        "outputId": "0f1fb5b1-b868-4bd2-c190-0317425abd2d"
      },
      "execution_count": 4,
      "outputs": [
        {
          "output_type": "stream",
          "name": "stdout",
          "text": [
            "1875/1875 [==============================] - 42s 21ms/step - loss: 0.2532 - accuracy: 0.9208\n"
          ]
        },
        {
          "output_type": "execute_result",
          "data": {
            "text/plain": [
              "<keras.callbacks.History at 0x7f7c4e0ac310>"
            ]
          },
          "metadata": {},
          "execution_count": 4
        }
      ]
    },
    {
      "cell_type": "code",
      "source": [
        "test_loss,test_acc= model.evaluate(test_images,test_labels)\n",
        "print(test_acc)\n",
        "\n",
        "test_images=np.expand_dims(test_images[300],axis=0)\n",
        "plt.imshow(test_images.reshape(28,28))\n",
        "plt.show()"
      ],
      "metadata": {
        "colab": {
          "base_uri": "https://localhost:8080/",
          "height": 301
        },
        "id": "fedRHjt-sqAc",
        "outputId": "af8fb990-5aaf-475b-fe9c-b89259edc7dc"
      },
      "execution_count": 5,
      "outputs": [
        {
          "output_type": "stream",
          "name": "stdout",
          "text": [
            "313/313 [==============================] - 3s 8ms/step - loss: 0.0875 - accuracy: 0.9724\n",
            "0.9724000096321106\n"
          ]
        },
        {
          "output_type": "display_data",
          "data": {
            "text/plain": [
              "<Figure size 432x288 with 1 Axes>"
            ],
            "image/png": "[encoded data removed]"
          },
          "metadata": {
            "needs_background": "light"
          }
        }
      ]
    },
    {
      "cell_type": "code",
      "source": [
        "result=model.predict(test_images)\n",
        "result"
      ],
      "metadata": {
        "id": "zgU5M5TQzMFH",
        "colab": {
          "base_uri": "https://localhost:8080/"
        },
        "outputId": "86bff087-c36c-4993-b24a-f858bce6267f"
      },
      "execution_count": 8,
      "outputs": [
        {
          "output_type": "execute_result",
          "data": {
            "text/plain": [
              "array([[8.7914495e-06, 6.9372274e-04, 3.4451034e-04, 6.1451405e-04,\n",
              "        9.9119204e-01, 2.4797709e-04, 4.6654427e-03, 2.6242065e-05,\n",
              "        9.1357692e-04, 1.2931674e-03]], dtype=float32)"
            ]
          },
          "metadata": {},
          "execution_count": 8
        }
      ]
    },
    {
      "cell_type": "code",
      "source": [
        ""
      ],
      "metadata": {
        "id": "NX9TUOImKZdf"
      },
      "execution_count": null,
      "outputs": []
    }
  ]
}