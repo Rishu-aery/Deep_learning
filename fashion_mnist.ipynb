{
  "nbformat": 4,
  "nbformat_minor": 0,
  "metadata": {
    "colab": {
      "name": "fashion_mnist.ipynb",
      "provenance": [],
      "authorship_tag": "ABX9TyMfaZWtekFsNaQ+qBA58KJ3",
      "include_colab_link": true
    },
    "kernelspec": {
      "name": "python3",
      "display_name": "Python 3"
    },
    "language_info": {
      "name": "python"
    }
  },
  "cells": [
    {
      "cell_type": "markdown",
      "metadata": {
        "id": "view-in-github",
        "colab_type": "text"
      },
      "source": [
        "<a href=\"https://colab.research.google.com/github/Rishu-aery/Deep_learning/blob/main/fashion_mnist.ipynb\" target=\"_parent\"><img src=\"https://colab.research.google.com/assets/colab-badge.svg\" alt=\"Open In Colab\"/></a>"
      ]
    },
    {
      "cell_type": "code",
      "execution_count": null,
      "metadata": {
        "id": "RGbEEo0B8TjN"
      },
      "outputs": [],
      "source": [
        "import tensorflow as tf\n",
        "import numpy as np"
      ]
    },
    {
      "cell_type": "code",
      "source": [
        "mnist = tf.keras.datasets.mnist\n",
        "(x_train_full,y_train_full),(x_test,y_test)=mnist.load_data()"
      ],
      "metadata": {
        "colab": {
          "base_uri": "https://localhost:8080/"
        },
        "id": "CCRwv4TO9tyw",
        "outputId": "099e52c8-92fe-4104-ffe1-875f20765b37"
      },
      "execution_count": null,
      "outputs": [
        {
          "output_type": "stream",
          "name": "stdout",
          "text": [
            "Downloading data from https://storage.googleapis.com/tensorflow/tf-keras-datasets/mnist.npz\n",
            "11493376/11490434 [==============================] - 0s 0us/step\n",
            "11501568/11490434 [==============================] - 0s 0us/step\n"
          ]
        }
      ]
    },
    {
      "cell_type": "code",
      "source": [
        "(x_valid,x_train)=x_train_full[:5000]/255.0,x_train_full[5000:]/255.0\n",
        "(y_valid,y_train)=y_train_full[:5000],y_train_full[5000:]"
      ],
      "metadata": {
        "id": "3B6f_9xmBvYl"
      },
      "execution_count": null,
      "outputs": []
    },
    {
      "cell_type": "code",
      "source": [
        "import keras\n",
        "from keras.models import Sequential\n",
        "model=Sequential()\n",
        "model.add(keras.layers.Flatten(input_shape=(28,28)))\n",
        "model.add(keras.layers.Dense(300,activation=\"relu\"))\n",
        "model.add(keras.layers.Dense(10,activation=\"softmax\"))"
      ],
      "metadata": {
        "id": "y9ANl5x7_XR_"
      },
      "execution_count": null,
      "outputs": []
    },
    {
      "cell_type": "code",
      "source": [
        "model.layers"
      ],
      "metadata": {
        "colab": {
          "base_uri": "https://localhost:8080/"
        },
        "id": "2ssVQZNNBCu2",
        "outputId": "4d0f0a0e-db23-4c6b-b489-5cacd9f7f556"
      },
      "execution_count": null,
      "outputs": [
        {
          "output_type": "execute_result",
          "data": {
            "text/plain": [
              "[<keras.layers.core.flatten.Flatten at 0x7fda9918ae50>,\n",
              " <keras.layers.core.dense.Dense at 0x7fda9918af10>,\n",
              " <keras.layers.core.dense.Dense at 0x7fda94c40c10>]"
            ]
          },
          "metadata": {},
          "execution_count": 5
        }
      ]
    },
    {
      "cell_type": "code",
      "source": [
        "model.compile(loss=\"sparse_categorical_crossentropy\",optimizer='sgd',metrics=['accuracy'])"
      ],
      "metadata": {
        "id": "BwYuzQBkBQ2d"
      },
      "execution_count": null,
      "outputs": []
    },
    {
      "cell_type": "code",
      "source": [
        "history=model.fit(x_train,y_train,epochs=30,validation_data=(x_valid,y_valid))"
      ],
      "metadata": {
        "colab": {
          "base_uri": "https://localhost:8080/"
        },
        "id": "7pyacx_jBnR1",
        "outputId": "df699269-f923-4946-9549-e0833180c4c1"
      },
      "execution_count": null,
      "outputs": [
        {
          "output_type": "stream",
          "name": "stdout",
          "text": [
            "Epoch 1/30\n",
            "1719/1719 [==============================] - 5s 2ms/step - loss: 0.6466 - accuracy: 0.8447 - val_loss: 0.3546 - val_accuracy: 0.9082\n",
            "Epoch 2/30\n",
            "1719/1719 [==============================] - 8s 5ms/step - loss: 0.3373 - accuracy: 0.9068 - val_loss: 0.2866 - val_accuracy: 0.9238\n",
            "Epoch 3/30\n",
            "1719/1719 [==============================] - 7s 4ms/step - loss: 0.2871 - accuracy: 0.9199 - val_loss: 0.2505 - val_accuracy: 0.9330\n",
            "Epoch 4/30\n",
            "1719/1719 [==============================] - 4s 2ms/step - loss: 0.2560 - accuracy: 0.9294 - val_loss: 0.2247 - val_accuracy: 0.9400\n",
            "Epoch 5/30\n",
            "1719/1719 [==============================] - 4s 2ms/step - loss: 0.2322 - accuracy: 0.9364 - val_loss: 0.2084 - val_accuracy: 0.9422\n",
            "Epoch 6/30\n",
            "1719/1719 [==============================] - 4s 2ms/step - loss: 0.2131 - accuracy: 0.9411 - val_loss: 0.1913 - val_accuracy: 0.9480\n",
            "Epoch 7/30\n",
            "1719/1719 [==============================] - 4s 2ms/step - loss: 0.1970 - accuracy: 0.9457 - val_loss: 0.1805 - val_accuracy: 0.9526\n",
            "Epoch 8/30\n",
            "1719/1719 [==============================] - 4s 2ms/step - loss: 0.1830 - accuracy: 0.9495 - val_loss: 0.1688 - val_accuracy: 0.9562\n",
            "Epoch 9/30\n",
            "1719/1719 [==============================] - 4s 2ms/step - loss: 0.1711 - accuracy: 0.9526 - val_loss: 0.1573 - val_accuracy: 0.9590\n",
            "Epoch 10/30\n",
            "1719/1719 [==============================] - 4s 2ms/step - loss: 0.1606 - accuracy: 0.9560 - val_loss: 0.1491 - val_accuracy: 0.9612\n",
            "Epoch 11/30\n",
            "1719/1719 [==============================] - 4s 2ms/step - loss: 0.1514 - accuracy: 0.9583 - val_loss: 0.1425 - val_accuracy: 0.9624\n",
            "Epoch 12/30\n",
            "1719/1719 [==============================] - 4s 2ms/step - loss: 0.1432 - accuracy: 0.9608 - val_loss: 0.1351 - val_accuracy: 0.9656\n",
            "Epoch 13/30\n",
            "1719/1719 [==============================] - 4s 2ms/step - loss: 0.1357 - accuracy: 0.9625 - val_loss: 0.1299 - val_accuracy: 0.9658\n",
            "Epoch 14/30\n",
            "1719/1719 [==============================] - 4s 2ms/step - loss: 0.1289 - accuracy: 0.9643 - val_loss: 0.1259 - val_accuracy: 0.9656\n",
            "Epoch 15/30\n",
            "1719/1719 [==============================] - 4s 2ms/step - loss: 0.1229 - accuracy: 0.9666 - val_loss: 0.1207 - val_accuracy: 0.9688\n",
            "Epoch 16/30\n",
            "1719/1719 [==============================] - 4s 2ms/step - loss: 0.1172 - accuracy: 0.9682 - val_loss: 0.1170 - val_accuracy: 0.9686\n",
            "Epoch 17/30\n",
            "1719/1719 [==============================] - 5s 3ms/step - loss: 0.1122 - accuracy: 0.9699 - val_loss: 0.1134 - val_accuracy: 0.9702\n",
            "Epoch 18/30\n",
            "1719/1719 [==============================] - 4s 2ms/step - loss: 0.1074 - accuracy: 0.9713 - val_loss: 0.1099 - val_accuracy: 0.9706\n",
            "Epoch 19/30\n",
            "1719/1719 [==============================] - 4s 2ms/step - loss: 0.1032 - accuracy: 0.9724 - val_loss: 0.1075 - val_accuracy: 0.9710\n",
            "Epoch 20/30\n",
            "1719/1719 [==============================] - 4s 2ms/step - loss: 0.0993 - accuracy: 0.9731 - val_loss: 0.1041 - val_accuracy: 0.9724\n",
            "Epoch 21/30\n",
            "1719/1719 [==============================] - 4s 2ms/step - loss: 0.0954 - accuracy: 0.9748 - val_loss: 0.1024 - val_accuracy: 0.9726\n",
            "Epoch 22/30\n",
            "1719/1719 [==============================] - 4s 2ms/step - loss: 0.0920 - accuracy: 0.9756 - val_loss: 0.0995 - val_accuracy: 0.9734\n",
            "Epoch 23/30\n",
            "1719/1719 [==============================] - 4s 2ms/step - loss: 0.0886 - accuracy: 0.9761 - val_loss: 0.0961 - val_accuracy: 0.9744\n",
            "Epoch 24/30\n",
            "1719/1719 [==============================] - 4s 2ms/step - loss: 0.0855 - accuracy: 0.9772 - val_loss: 0.0954 - val_accuracy: 0.9744\n",
            "Epoch 25/30\n",
            "1719/1719 [==============================] - 4s 2ms/step - loss: 0.0829 - accuracy: 0.9781 - val_loss: 0.0929 - val_accuracy: 0.9746\n",
            "Epoch 26/30\n",
            "1719/1719 [==============================] - 4s 2ms/step - loss: 0.0802 - accuracy: 0.9787 - val_loss: 0.0905 - val_accuracy: 0.9752\n",
            "Epoch 27/30\n",
            "1719/1719 [==============================] - 4s 2ms/step - loss: 0.0776 - accuracy: 0.9796 - val_loss: 0.0887 - val_accuracy: 0.9764\n",
            "Epoch 28/30\n",
            "1719/1719 [==============================] - 4s 2ms/step - loss: 0.0751 - accuracy: 0.9803 - val_loss: 0.0877 - val_accuracy: 0.9756\n",
            "Epoch 29/30\n",
            "1719/1719 [==============================] - 4s 2ms/step - loss: 0.0729 - accuracy: 0.9806 - val_loss: 0.0869 - val_accuracy: 0.9758\n",
            "Epoch 30/30\n",
            "1719/1719 [==============================] - 4s 2ms/step - loss: 0.0708 - accuracy: 0.9816 - val_loss: 0.0852 - val_accuracy: 0.9770\n"
          ]
        }
      ]
    },
    {
      "cell_type": "code",
      "source": [
        "import pandas as pd\n",
        "import matplotlib.pyplot as plt\n",
        "pd.DataFrame(history.history).plot(figsize=(8,5))\n",
        "plt.grid(True)\n",
        "plt.gca().set_ylim(0,1)\n",
        "plt.show()"
      ],
      "metadata": {
        "colab": {
          "base_uri": "https://localhost:8080/",
          "height": 324
        },
        "id": "px0u8GC9Cyn9",
        "outputId": "c4fb9064-bc22-47a2-c89f-018580ef34b2"
      },
      "execution_count": null,
      "outputs": [
        {
          "output_type": "display_data",
          "data": {
            "text/plain": [
              "<Figure size 576x360 with 1 Axes>"
            ],
            "image/png": "[encoded data removed]"
          },
          "metadata": {
            "needs_background": "light"
          }
        }
      ]
    },
    {
      "cell_type": "code",
      "source": [
        ""
      ],
      "metadata": {
        "id": "WmdakcsqD9YH"
      },
      "execution_count": null,
      "outputs": []
    }
  ]
}